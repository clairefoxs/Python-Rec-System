{
 "metadata": {
  "name": "",
  "signature": "sha256:f27af4ae7b02c4b64f33e17d5fd0604335405fafa24f6fcfe5fa3628beff7956"
 },
 "nbformat": 3,
 "nbformat_minor": 0,
 "worksheets": [
  {
   "cells": [
    {
     "cell_type": "code",
     "collapsed": false,
     "input": [
      "import re\n",
      "import pandas as pd\n",
      "import numpy as np\n",
      "import requests\n",
      "from urllib2 import urlopen\n",
      "import StringIO\n",
      "import html5lib\n",
      "import getpass\n",
      "from unidecode import unidecode\n",
      "import csv\n",
      "import fuzzywuzzy as fzw\n",
      "from fuzzywuzzy import fuzz\n",
      "from fuzzywuzzy import process\n",
      "from IPython.display import HTML\n",
      "import numpy as np\n",
      "# General syntax to import a library but no functions: \n",
      "import matplotlib.pyplot as plt\n",
      "%matplotlib inline"
     ],
     "language": "python",
     "metadata": {},
     "outputs": [
      {
       "output_type": "stream",
       "stream": "stderr",
       "text": [
        "/Users/clairesalloum/anaconda/lib/python2.7/site-packages/fuzzywuzzy/fuzz.py:33: UserWarning: Using slow pure-python SequenceMatcher\n",
        "  warnings.warn('Using slow pure-python SequenceMatcher')\n"
       ]
      }
     ],
     "prompt_number": 1
    },
    {
     "cell_type": "heading",
     "level": 2,
     "metadata": {},
     "source": [
      "Import BX_books dataset"
     ]
    },
    {
     "cell_type": "code",
     "collapsed": false,
     "input": [
      "BX_users = pd.read_csv('BX-CSV-Dump/BX-Users.csv', sep=';')\n",
      "BX_books = pd.read_csv('BX-CSV-Dump/books_clean.csv')\n",
      "BX_ratings = pd.read_csv('BX-CSV-Dump/BX-Book-Ratings.csv', sep=';')\n",
      "AU_books = pd.read_csv('output/AU_books_20k.csv', index_col = 0)\n",
      "BX_books.columns = ['isbn', 'title', 'author', 'pub_year', 'publisher', 'imageS', 'imageM', 'imageL']\n",
      "BX_ratings.columns = ['userID', 'isbn', 'user_rating']\n",
      "BX_users.columns = ['userID', 'location', 'age']"
     ],
     "language": "python",
     "metadata": {},
     "outputs": [],
     "prompt_number": 2
    },
    {
     "cell_type": "markdown",
     "metadata": {},
     "source": [
      "Merge Ratings with Books to get book names and info (ratings)"
     ]
    },
    {
     "cell_type": "code",
     "collapsed": false,
     "input": [
      "ratings = BX_books.merge(BX_ratings, how='inner', on='isbn')\n",
      "len(ratings)"
     ],
     "language": "python",
     "metadata": {},
     "outputs": [
      {
       "metadata": {},
       "output_type": "pyout",
       "prompt_number": 3,
       "text": [
        "1031175"
       ]
      }
     ],
     "prompt_number": 3
    },
    {
     "cell_type": "markdown",
     "metadata": {},
     "source": [
      "Merge Ratings with Users (bx)"
     ]
    },
    {
     "cell_type": "code",
     "collapsed": false,
     "input": [
      "bx = ratings.merge(BX_users, how='inner', on='userID')"
     ],
     "language": "python",
     "metadata": {},
     "outputs": [],
     "prompt_number": 4
    },
    {
     "cell_type": "code",
     "collapsed": false,
     "input": [
      "# most_rated = ratings.groupby('title').size().order(ascending=False)[:10]\n",
      "# most_rated = pd.DataFrame(most_rated.index)\n",
      "\n",
      "book_stats = bx.groupby('title').agg({'user_rating': [np.size, np.mean, np.std]})\n",
      "query_books = book_stats[(book_stats['user_rating']['size'] > 500) & (book_stats['user_rating']['std'] > 4)]"
     ],
     "language": "python",
     "metadata": {},
     "outputs": [],
     "prompt_number": 5
    },
    {
     "cell_type": "code",
     "collapsed": false,
     "input": [
      "most_rated  = pd.DataFrame(query_books.index)\n",
      "most_rated"
     ],
     "language": "python",
     "metadata": {},
     "outputs": [
      {
       "html": [
        "<div style=\"max-height:1000px;max-width:1500px;overflow:auto;\">\n",
        "<table border=\"1\" class=\"dataframe\">\n",
        "  <thead>\n",
        "    <tr style=\"text-align: right;\">\n",
        "      <th></th>\n",
        "      <th>title</th>\n",
        "    </tr>\n",
        "  </thead>\n",
        "  <tbody>\n",
        "    <tr>\n",
        "      <th>0 </th>\n",
        "      <td>                                    A Time to Kill</td>\n",
        "    </tr>\n",
        "    <tr>\n",
        "      <th>1 </th>\n",
        "      <td>                               Angels &amp;amp; Demons</td>\n",
        "    </tr>\n",
        "    <tr>\n",
        "      <th>2 </th>\n",
        "      <td>                             Bridget Jones's Diary</td>\n",
        "    </tr>\n",
        "    <tr>\n",
        "      <th>3 </th>\n",
        "      <td>   Divine Secrets of the Ya-Ya Sisterhood: A Novel</td>\n",
        "    </tr>\n",
        "    <tr>\n",
        "      <th>4 </th>\n",
        "      <td>                         Girl with a Pearl Earring</td>\n",
        "    </tr>\n",
        "    <tr>\n",
        "      <th>5 </th>\n",
        "      <td>  Harry Potter and the Chamber of Secrets (Book 2)</td>\n",
        "    </tr>\n",
        "    <tr>\n",
        "      <th>6 </th>\n",
        "      <td> Harry Potter and the Sorcerer's Stone (Harry P...</td>\n",
        "    </tr>\n",
        "    <tr>\n",
        "      <th>7 </th>\n",
        "      <td>                        Interview with the Vampire</td>\n",
        "    </tr>\n",
        "    <tr>\n",
        "      <th>8 </th>\n",
        "      <td>                                        Life of Pi</td>\n",
        "    </tr>\n",
        "    <tr>\n",
        "      <th>9 </th>\n",
        "      <td>                            Snow Falling on Cedars</td>\n",
        "    </tr>\n",
        "    <tr>\n",
        "      <th>10</th>\n",
        "      <td>                                 The Da Vinci Code</td>\n",
        "    </tr>\n",
        "    <tr>\n",
        "      <th>11</th>\n",
        "      <td>                                 The Joy Luck Club</td>\n",
        "    </tr>\n",
        "    <tr>\n",
        "      <th>12</th>\n",
        "      <td>                         The Lovely Bones: A Novel</td>\n",
        "    </tr>\n",
        "    <tr>\n",
        "      <th>13</th>\n",
        "      <td>                                      The Notebook</td>\n",
        "    </tr>\n",
        "    <tr>\n",
        "      <th>14</th>\n",
        "      <td>               The Red Tent (Bestselling Backlist)</td>\n",
        "    </tr>\n",
        "    <tr>\n",
        "      <th>15</th>\n",
        "      <td>                           The Secret Life of Bees</td>\n",
        "    </tr>\n",
        "    <tr>\n",
        "      <th>16</th>\n",
        "      <td>                                          Timeline</td>\n",
        "    </tr>\n",
        "    <tr>\n",
        "      <th>17</th>\n",
        "      <td>                             To Kill a Mockingbird</td>\n",
        "    </tr>\n",
        "    <tr>\n",
        "      <th>18</th>\n",
        "      <td> Where the Heart Is (Oprah's Book Club (Paperba...</td>\n",
        "    </tr>\n",
        "  </tbody>\n",
        "</table>\n",
        "</div>"
       ],
       "metadata": {},
       "output_type": "pyout",
       "prompt_number": 6,
       "text": [
        "                                                title\n",
        "0                                      A Time to Kill\n",
        "1                                 Angels &amp; Demons\n",
        "2                               Bridget Jones's Diary\n",
        "3     Divine Secrets of the Ya-Ya Sisterhood: A Novel\n",
        "4                           Girl with a Pearl Earring\n",
        "5    Harry Potter and the Chamber of Secrets (Book 2)\n",
        "6   Harry Potter and the Sorcerer's Stone (Harry P...\n",
        "7                          Interview with the Vampire\n",
        "8                                          Life of Pi\n",
        "9                              Snow Falling on Cedars\n",
        "10                                  The Da Vinci Code\n",
        "11                                  The Joy Luck Club\n",
        "12                          The Lovely Bones: A Novel\n",
        "13                                       The Notebook\n",
        "14                The Red Tent (Bestselling Backlist)\n",
        "15                            The Secret Life of Bees\n",
        "16                                           Timeline\n",
        "17                              To Kill a Mockingbird\n",
        "18  Where the Heart Is (Oprah's Book Club (Paperba..."
       ]
      }
     ],
     "prompt_number": 6
    },
    {
     "cell_type": "heading",
     "level": 1,
     "metadata": {},
     "source": [
      "Recommendation System"
     ]
    },
    {
     "cell_type": "code",
     "collapsed": false,
     "input": [
      "def loadBookRatings():\n",
      "    numBooks = 0\n",
      "    bookNames = {}\n",
      "    bookRatings = {}\n",
      "    for n in ratings.index:\n",
      "        bookID = ratings.isbn.loc[n]\n",
      "        bookName = ratings.title.loc[n]\n",
      "        bookNames[bookID] = bookName\n",
      "        \n",
      "        userID = ratings.userID.loc[n]\n",
      "        rating = ratings.user_rating.loc[n]\n",
      "        #timestamp = ratings.run.loc[n] \n",
      "        \n",
      "        if (not(bookRatings.has_key(userID))):\n",
      "            bookRatings[userID] = {}\n",
      "        bookRatings[userID][bookName] = float(rating)\n",
      "        \n",
      "        numBooks += 1\n",
      "        \n",
      "    return (bookRatings, bookNames, numBooks)\n",
      "\n",
      "(bookRatings, bookNames, numBooks) = loadBookRatings()\n",
      "print \"Our data has \" + repr(numBooks) + \" dimensions.\"\n"
     ],
     "language": "python",
     "metadata": {},
     "outputs": [
      {
       "output_type": "stream",
       "stream": "stdout",
       "text": [
        "Our data has 1031175 dimensions.\n"
       ]
      }
     ],
     "prompt_number": 7
    },
    {
     "cell_type": "code",
     "collapsed": false,
     "input": [
      "print bookRatings[59172]"
     ],
     "language": "python",
     "metadata": {},
     "outputs": [
      {
       "output_type": "stream",
       "stream": "stdout",
       "text": [
        "{'The Womanly Art of Breastfeeding': 0.0, 'Inner Harbor (Quinn Brothers (Paperback))': 0.0, \"Twilight's Child (Cutler)\": 10.0, 'Wanderlust': 9.0, 'Five Days in Paris': 10.0, 'Wakefield Hall': 0.0, 'The THIRD PANDEMIC': 0.0, 'The Times of My Life': 0.0, 'Starlight and Splendor': 0.0, 'Island of the Blue Dolphins': 0.0, 'Higher Authority': 0.0, \"Lucifer's Hammer\": 0.0, 'Point of Origin': 0.0, \"A Killer Among Us: A True Story of a Family's Triumph over Tragedy (Onyx True Crime)\": 0.0, 'A Brilliant Madness: Living With Manic-Depressive Illness': 0.0, 'Zoya': 0.0, 'My Sweet Audrina': 10.0, \"Maclaurin'S Lady (Harlequin Historical, No 287)\": 0.0, 'The Eyes of Darkness': 9.0, 'Cinnamon (Shooting Stars)': 0.0, 'Children of the Mind (Ender Wiggins Saga (Paperback))': 0.0, '52 Ways to Simplify Your Life (52 Decks)': 0.0, 'The Walking Drum': 0.0, 'Cradle and All': 0.0, \"Cool Dead People: Obituaries of Real Folks We Wish We'd Met a Little Sooner\": 0.0, 'Blazing Passion': 0.0, 'Firefly Summer': 0.0, 'Mirror Image': 10.0, \"Love'S Choices (Worldwide Library, Signature ed., No. 1)\": 0.0, 'Hollywood Wives - The New Generation': 0.0, 'AT MOTHERS REQUEST': 0.0, 'The Notebook': 0.0, \"Ender's Game (Ender Wiggins Saga (Paperback))\": 0.0, 'Love You Forever': 10.0, \"The Sweet Potato Queens' Book of Love\": 0.0, \"Daddy's Little Girl\": 0.0, 'The Green Mile': 0.0, 'Forbidden Fruit (Mira)': 8.0, 'Fortune Is a Woman': 0.0, 'Out of the Shadows (Shadows Trilogy (Paperback))': 0.0, 'Wild Swan': 8.0, 'Titanic Crossing': 0.0, 'Pop Goes the Weasel (Alex Cross Novels)': 10.0, 'Momilies: As My Mother Used to Say': 0.0, 'Masquerade': 8.0, 'Shadow of the Hegemon (Ender Wiggins Saga (Paperback))': 0.0, 'American Star': 0.0, 'The Homing': 10.0, 'Halloween: Romantic Art and Customs Of Yesteryear Postcard Book': 0.0, 'PIRATE': 9.0, 'Transfer of Power': 0.0, 'Carolina Moon': 8.0, \"Harry Potter and the Sorcerer's Stone (Harry Potter (Paperback))\": 0.0, 'The Sound of Waves': 0.0, 'One More Time : A Memoir (Encore Nonfiction Modern Classics)': 0.0, 'The Presence': 0.0, 'A Season in Purgatory': 0.0, 'Desperate Measures': 0.0, 'All That Remains (Kay Scarpetta Mysteries (Paperback))': 0.0, \"Haley's Hints: A Compilation\": 10.0, 'Black Notice': 0.0, 'Changes': 10.0, 'The Cable Guy': 0.0, 'Pirate Moon (Harlequin Superromance, No 70599)': 0.0, 'Funhouse': 9.0, 'The Day After Tomorrow': 0.0, 'The Klone and I: A High-Tech Love Story': 0.0, 'A Bend in the Road': 0.0, 'Road to Nowhere (reissue)': 0.0, 'Separate Beds': 7.0, 'A Midnight Clear': 0.0, 'The Talisman': 7.0, 'Blessings': 0.0, 'Bad Girls, Good Women': 0.0, 'The Naked Face': 10.0, 'Darkness': 0.0, 'Everything to Gain': 0.0, 'The Wedding': 0.0, 'The Favored Child : A Novel': 8.0, 'Silent Honor': 0.0, 'Star': 0.0, 'To Be the Best': 10.0, 'Fall of the White Ship Avatar': 0.0, 'Twilight Eyes': 10.0, 'Winter of the Heart': 0.0, '1st to Die: A Novel': 0.0, 'TIME OFF FROM GOOD BEHAVIOR': 0.0, 'Power Play': 0.0, 'The Phantom of the Opera: The Original Novel': 10.0, 'Like Father, Like Son': 8.0, 'Speaker for the Dead (Ender Wiggins Saga (Paperback))': 0.0, 'LET ME CALL YOU SWEETHEART': 0.0, 'The Want-Ad Killer': 10.0, 'Winter Moon': 0.0, 'My Guardian Angel': 9.0, 'Where the Red Fern Grows': 10.0, 'The End Of The Dream The Golden Boy Who Never Grew Up : Ann Rules Crime Files Volume 5': 0.0, 'The Terminal Man': 0.0, 'DESCENT FR XANADU': 10.0, 'The Face of Fear': 9.0, 'Dreamscape (By Request Series) Volume 5 (By Request)': 0.0, 'STORYTELLER': 9.0, 'Knight of a Trillion Stars (Futuristic Romance)': 0.0, \"I Am a Little Hedgehog (Barron's Little Animal Series)\": 0.0, 'Magic Within': 0.0, 'Act of Will': 9.0, 'The Plot Thickens': 0.0, 'Mary Jane Harper Cried Last Night': 10.0, \"Don't Open This Book!\": 0.0, 'Black Widow': 9.0, 'TOLKIEN MAGNETIC POSTCARDS(tm) 12 Full-color Magnetic Postcards to Send or Save': 0.0, 'Rim: A Novel of Virtual Reality': 0.0, 'Christmas Spirits': 10.0, 'Dreams of Childhood: Postcard Book': 0.0, \"Chicken Soup for the Single's Soul - 101 Stories of Love and Inspiration for the Single, Divorced and Widowed\": 0.0, 'Plain Jane': 0.0, 'Dilbert: A Book of Postcards': 0.0, 'Chromosome 6': 0.0, 'Networking Illustrated': 0.0, 'Dark Rivers of the Heart': 7.0, 'The Gift': 10.0, 'Thinner': 9.0, 'Cause of Death': 0.0, 'The Servants of Twilight': 0.0, 'Unfinished Symphony (Logan)': 0.0, 'Mr. Murder': 8.0, 'Sphere': 0.0, 'Pulse Points': 0.0, 'American Psycho (Vintage Contemporaries)': 0.0, 'To Kill a Mockingbird': 10.0, 'Hide &amp; Seek': 0.0, 'Let Me Call You Sweetheart': 0.0, 'The Midnight Club': 0.0, \"McNally's Chance\": 10.0, 'A Walk to Remember': 0.0, 'Birthstone': 0.0, 'Dragon Tears': 0.0, 'Needful Things': 10.0, \"From Potter's Field\": 0.0, 'Perfect Partners': 0.0, 'Darkfall': 0.0, 'The Search for the Green River Killer': 0.0, 'A History of the World in 10 1/2 Chapters (Vintage International)': 5.0, 'The Predators': 9.0, 'The Dead Zone': 8.0, 'When You Wish': 0.0, 'The Snow Leopard of Shanghai': 0.0, 'Mackenzies': 0.0, \"Summer's End\": 0.0, 'Water Baby (Family Man) (Harlequin Superromance, No 686)': 8.0, 'Children of the Ice': 0.0, 'Bittersweet': 0.0, \"Hush Little Babies : The True Story Of A Mother Who Murdered Her Own Children (St. Martin's True Crime Library)\": 0.0, 'Son: A Psychopath and His Victims': 0.0, 'Nights in Rodanthe': 0.0, 'The Time Machine': 0.0, 'Cruel &amp; Unusual (Kay Scarpetta Mysteries (Paperback))': 0.0, 'A Checklist for Murder: The True Story of Robert John Peernock': 0.0, 'Message from Nam': 10.0, \"Man Who Loved Christmas (America'S Bravest) (Harlequin Superromance, No. 877)\": 8.0, \"I'll Be Seeing You\": 0.0, 'Divine Secrets of the Ya-Ya Sisterhood: A Novel': 0.0, 'Rose': 0.0, 'Sole Survivor': 0.0, 'And Then You Die': 0.0, 'Postmortem': 0.0, 'Natural California: A Postcard Book': 0.0, 'The Poet': 0.0, 'And Never Let Her Go : Thomas Capano: The Deadly Seducer': 10.0, 'Dragonfly in Amber': 0.0, 'Dangerous and Dashing (Zebra Regency Romance)': 0.0, 'Fertile Ground': 0.0, 'Loves Music, Loves to Dance': 0.0, 'Ruby (Wheeler large print book series)': 9.0, 'Silent Night : A Christmas Suspense Story': 0.0, 'Journey': 0.0, 'The Beach House': 0.0, 'Mirage': 10.0, 'Fine Things': 0.0, \"The Girls' Guide to Hunting and Fishing\": 0.0, 'Sent by Earth: A Message from the Grandmother Spirit After the Bombing of the World Trade Center and the Pentagon': 0.0, 'The I-5 Killer (Signet True Crime S.)': 10.0, 'Xenocide (Ender Wiggins Saga (Paperback))': 0.0, 'God Save the Sweet Potato Queens': 0.0, 'The Timothy Files': 10.0, 'A Capital Holiday (Zebra Book.)': 0.0, 'My Sister the Moon': 0.0, 'If You Really Loved Me': 10.0, 'Timeline': 10.0, 'Deadly Innocence (New Comprehensive Biochemistry)': 10.0, 'The Tailor of Gloucester (The World of Peter Rabbit)': 0.0, 'The Key to Midnight': 0.0, 'Ren and Stimpy Show: Postcards Over the Edge': 0.0, 'The Mask': 8.0, 'The Frugal Gourmet': 0.0, 'Dim Sum Dead : A Madeline Bean Culinary Mystery (Madeline Bean Catering Mysteries)': 0.0, 'The Five People You Meet in Heaven': 0.0, 'The Anderson Tapes': 0.0, 'Empty Promises': 0.0, 'Creature': 0.0, 'Motherhood the Second Oldest Profession': 10.0, 'Cocktail': 8.0, 'To Love Again': 0.0, 'Going Home': 0.0, 'Evidence of Murder': 0.0, 'Soul of the Fire (Sword of Truth, Book 5)': 0.0, 'Mr. Elliott Finds A Family (A Little Secret) (Superrromance, 919)': 0.0, 'The Body Farm': 0.0, 'PEARL IN THE MIST (Landry Saga (Hardcover))': 8.0, 'The Seduction of Peter S': 0.0, \"Doctor's Book of Home Remedies: Simple, Doctor-Approved Self-Care Solutions for 146 Common Health Conditions\": 10.0, 'Keanu Reeves': 0.0, 'Fluke : Or, I Know Why the Winged Whale Sings': 0.0, 'Sensual Massage: The Joy of Touch': 0.0, 'Loves Tender Fury': 0.0, 'Stillwatch': 0.0, 'Blind Justice': 10.0, 'Tarnished Angel: A Memoir': 0.0, 'No Greater Love': 10.0, 'Daddy': 0.0, 'Second Child': 0.0, 'Sleeping With the Enemy': 0.0, 'Sunset in St. Tropez': 0.0, 'Manifold: Time (Manifold (Paperback))': 0.0, 'Snow Falling on Cedars': 0.0, 'A Farewell to France': 0.0, \"McNally's Secret (Archy McNally Novels (Paperback))\": 10.0, 'ROAD TO NOWHERE : ROAD TO NOWHERE': 0.0, 'The Bachman Books: Rage, the Long Walk, Roadwork, the Running Man': 10.0, 'The Stranger Beside Me': 10.0, \"Timothy's Game\": 10.0, 'I Is for Innocent': 0.0, 'A Thin Dark Line': 9.0, \"He Sees You When You're Sleeping : A Novel\": 0.0, 'Another Dawn (Thorndike Large Print Americana)': 8.0, 'A 2nd Helping of Chicken Soup for the Soul (Chicken Soup for the Soul Series (Paper))': 0.0, 'Pastora': 0.0, 'The Lovely Bones: A Novel': 0.0, 'Spring Collection': 0.0, 'Flesh and Blood': 0.0, 'Angels Among Us': 0.0, 'Where I Stopped: Remembering Rape at Thirteen': 0.0, 'Mothers Counter Card: Twenty Stories of Contemporary Motherhood': 0.0, 'SINGLE WHITE FEMALE : SINGLE WHITE FEMALE': 0.0, 'Have You Seen My Son?': 0.0, \"The Doctors Book of Home Remedies II (Doctors' Book of Home Remedies)\": 10.0, \"The Nitpicker's Guide for X-Philes\": 10.0, 'The Gunslinger (The Dark Tower, Book 1)': 7.0, 'A Dark and Deadly Love: A True Story of Love and Death in Texas': 8.0, 'Heartbeat': 10.0, 'Marie: A True Story': 0.0, 'The Next Accident': 0.0, 'The Dark Half': 7.0, 'Death and Celebrity (True Crime)': 0.0, \"Everything's Eventual : 14 Dark Tales\": 0.0, 'The Regulators': 0.0, 'Gates of Paradise (Casteel)': 9.0, 'Deadly Deception': 0.0, 'Shudder Again: 22 Tales of Sex and Horror': 0.0, 'The Girl Death Left Behind': 0.0, 'Circle of Friends': 0.0, 'The Long Road Home': 10.0, 'Stanislaski Brothers (Silhouette Promo)': 0.0, 'Legend': 0.0, 'Say Cheese!': 0.0, 'X-Men 2: A Novelization': 0.0, 'A Puree of Poison': 0.0, 'Jack &amp; Jill (Alex Cross Novels)': 10.0, 'On the Street Where You Live': 0.0, 'Angel': 0.0, 'Darkest Hour (Cutler)': 10.0, 'Southern Cross': 0.0, 'Tara Road': 0.0, 'Intensity': 9.0, 'Torn Thread': 0.0, 'Flowers In The Attic (Dollanganger)': 10.0, \"Don't Stand Too Close to a Naked Man\": 0.0, 'Lisa, Hedda and Joel: The Steinberg Murder Case': 9.0, '2nd Chance': 0.0, 'Thirteenth Night': 0.0, 'SPELLBINDER': 9.0, 'How to Do Just About Anything on a Computer': 0.0, 'Prime Time: Joan Collins': 0.0, 'The Dream Lover': 0.0, \"The Nurse's Story\": 10.0, 'Daybook: The Journey of an Artist': 0.0, 'Chicken Soup for the Teenage Soul Journal (Chicken Soup for the Soul Series)': 0.0, 'Terminal Condition': 0.0, 'Voyager': 0.0, 'With Murderous Intent': 8.0, 'Women in His Life': 0.0, 'Prison Groupies': 0.0, 'Insomnia': 5.0, 'DANGEROUS KISS : A NOVEL (Lucky Santangelo Novels (Hardcover))': 8.0, '...And Ladies of the Club': 10.0, 'The Wedding Promise (Harlequin Romance Audio)': 0.0, 'Never Love a Stranger': 9.0, 'MIDNIGHT WHISPERS (Midnight Whispers)': 0.0, 'Snagged': 0.0, 'Small Sacrifices: A True Story of Passion and Murder': 10.0, 'Richter 10 (Bantam Spectra Book)': 0.0, 'The Ranch': 0.0, 'Special Delivery': 0.0, 'The Rings of the Master: Book 1: Lords of the Middle Dark': 0.0, 'The Last Precinct': 0.0, 'The Preppy Murder Trial': 9.0, 'The Carpetbaggers': 8.0, 'Fairy Tales (Puffin Books)': 0.0, 'Four Past Midnight': 9.0, 'Maggie': 0.0, \"Ender's Shadow\": 0.0, 'Crimes and Misdemeanors: New and Original Stories of Love and Death': 0.0, \"Kids' Random Acts of Kindness\": 0.0, \"McNally's Dilemma (Archy McNally Novels (Paperback))\": 10.0, 'The Second Deadly Sin': 8.0, 'Time Remembered (Timeswept)': 0.0, 'Full Circle': 10.0, 'A Light in the Window (The Mitford Years)': 0.0, 'Master of the Game': 10.0, 'Promises to Keep': 0.0, 'Millennium Art (Postcard book, 30 detachable postcards)': 0.0, 'The Tommyknockers': 10.0, 'Switchback': 0.0, 'The Sands of Time': 0.0, 'Wedding Escapade (Harlequin Romance, No 3452)': 0.0, 'The Guardian': 10.0, 'The throne of bones': 0.0, 'The Death Shift: The True Story of Nurse Genene Jones and the Texas Baby Murders': 8.0, 'Pandora : New Tales of the Vampires': 0.0, 'Stolen Blessings': 0.0, 'Scarlet Feather': 0.0, 'Message in a Bottle': 0.0, 'Dawn (Cutler)': 10.0, 'Treasures': 0.0, 'Silent Snow': 0.0, 'Too Deep for Tears': 0.0, 'Every Breath You Take : A True Story of Obsession, Revenge, and Murder': 0.0, 'Reasonable Doubt': 10.0, 'The Lake House': 10.0, 'The Street Lawyer': 0.0, 'Wanted: Mother': 8.0, 'Stealing Shadows (Shadows Trilogy (Paperback))': 0.0, 'Misery': 9.0, 'Sudden Prey': 0.0, 'Harry Potter and the Chamber of Secrets Postcard Book': 0.0, 'A Time to Kill': 0.0, 'Mommie Dearest : Joan Crawford': 5.0, 'The Third Victim': 0.0, 'Fatal Vision': 0.0, 'Women Who Killed: Stories of Canadian Female Murderers': 9.0, 'Zits Unzipped : Sketchbook #5 (Scott, Jerry, Zits Collection Sketchbook, No. 5.)': 0.0, 'Have a Nice Day : A Tale of Blood and Sweatsocks': 0.0, 'Malice': 0.0, 'The Eighth Commandment': 10.0, 'At Peace in the Light': 0.0, 'Jewels': 10.0, \"Pretend You Don't See Her\": 0.0, 'Forgiving Heart (Love Inspired)': 0.0, 'The Alienist': 0.0, 'Deadly Rich': 8.0, 'Starship Troopers (Thorndike Speculative Fiction)': 7.0, \"Magic's Promise (The Last Herald-Mage Series, Book 2)\": 0.0, 'Morning, Noon, and Night': 10.0, 'Suspicion of Malice': 0.0, 'The Waste Lands (The Dark Tower, Book 3)': 8.0, \"McNally's Folly\": 10.0, 'Aman Story of a Somali Girl': 0.0, 'Flowers in the Rain &amp; Other Stories': 8.0, 'Ice (Shooting Stars)': 0.0, 'The Girl Who Loved Tom Gordon': 0.0, 'Illegal Alien': 0.0, 'Lords of Destruction: Death Dealer Book Two (Death Dealer)': 0.0, 'The Cases That Haunt Us': 0.0, 'Dust': 0.0, 'Raphael': 0.0, 'Hype': 5.0, 'Benedict Canyon': 0.0, 'Precious Victims': 0.0, 'D Is for Deadbeat (Kinsey Millhone Mysteries (Paperback))': 0.0, 'Strange Highways': 8.0, \"Perfect Murder, Perfect Town : The Uncensored Story of the JonBenet Murder and the Grand Jury's Search for the Final Truth\": 0.0, 'Never Kiss a Stranger': 0.0, 'The Hobbit: Or There and Back Again': 0.0, 'Molly by Any Other Name': 0.0, 'Run Shelley Run': 0.0, 'CRY IN THE NIGHT, A': 0.0, 'Come Love a Stranger': 0.0, 'Remembrance': 0.0, 'A Heart Speaks': 0.0, 'Double Images (Harlequin Intrigue, No 38)': 0.0, 'Pop Goes the Weasel': 0.0, 'The Hot Zone': 0.0, 'Obsession - 36-Copy Dumpbin (Full': 0.0, 'The Rescue': 0.0, 'Murder Machine: A True Story of Murder, Madness, and the Mafia': 8.0, 'Gi Diary': 0.0, 'Heaven (Casteel)': 10.0, 'Trauma': 0.0, 'Thurston House': 10.0, 'Pet Sematary': 9.0, \"Suzanne's Diary for Nicholas\": 0.0, 'One Door Away from Heaven': 0.0, 'A 3rd Serving of Chicken Soup for the Soul (Chicken Soup for the Soul Series (Paper))': 0.0, 'The Cradle Will Fall': 0.0, 'Four Blind Mice': 0.0, 'Falling Stars (Andrews, V. C. Shooting Stars.)': 0.0, 'Hideaway': 0.0, 'Through The Eyes Of A Child (Intrigue , No 465)': 0.0, 'The Stand: Complete and Uncut': 0.0, 'Ripper': 10.0, 'Danielle Steel/the Glamour the Myth the Woman': 10.0, 'Diana: Vrai Histoire/ Diana: Her True Story': 0.0, 'The Drawing of the Three (The Dark Tower, Book 2)': 7.0, \"You Belong to Me and Other True Cases (Ann Rule's Crime Files: Vol. 2)\": 0.0, 'Hard to Get': 0.0, 'Love Songs': 0.0, 'The Stars Shine Down': 10.0, 'Creating Web Pages Simplified (3-D Visual Series)': 10.0, 'Dance upon the Air (Three Sisters Island Trilogy)': 8.0, 'Nothing but the Truth': 0.0, 'When the Wind Blows': 0.0, 'Pirates': 0.0, 'The Tomorrow File': 10.0, 'The Man in the Box': 0.0, \"The Sweet Potato Queens' Big-Ass Cookbook (and Financial Planner)\": 0.0, \"Women's Encyclopedia of Health &amp; Emotional Healing: Top Women Doctors Share Their Unique Self-Help Advice on Your Body, Your Feelings and Your Life\": 10.0, 'Garden of Lies (Signet Shakespeare)': 7.0, 'Hidden Treasures : Searching for Masterpieces of American Furniture': 0.0, 'Honey': 0.0, 'Chicken Soup from the Soul of Hawaii: Stories of Aloha to Create Paradise Wherever You Are': 0.0, \"Mary Ellen's Greatest Hints\": 0.0, 'Lords of the Earth': 0.0, 'The Last Innocent Hour: A Novel': 9.0, \"Magic's Pawn (The Last Herald-Mage Series, Book 1)\": 0.0, 'Bleachers': 0.0, 'Sunset Embrace': 0.0, 'The Outsiders (Now in Speak!)': 0.0, 'Three Complete Novels: Lace/Lace 2/Crimson': 10.0, 'Santa Steps Out': 0.0, \"McNally's Risk (Archy McNally Novels (Paperback))\": 10.0, 'Rock Dreams': 10.0, 'Friend': 0.0, 'One With the Light': 0.0, 'Firefly': 0.0, 'Bitter Leaf': 0.0, 'Reasonable Doubt: A True Story of Lust and Murder in the American Heartland': 9.0, 'Sacrifice': 0.0, \"Disney's Pocahontas: The Voice of the Wind (A Little Golden Book)\": 0.0, 'The Seventh Commandment': 10.0, 'The Red Devil: To Hell with Cancer--And Back': 0.0, 'If Tomorrow Comes': 10.0, 'The Man Who Killed Boys : The John Wayne Gacy, Jr. Story': 0.0, \"Long Day's Journey into Night\": 0.0, 'The Cider House Rules': 0.0, 'After the Light: The Spiritual Path to Purpose': 0.0, \"Without Pity : Ann Rule's Most Dangerous Killers\": 0.0, 'INHERITORS': 9.0, 'Lone Eagle': 0.0, \"The Pessimist's Journal of Very, Very Bad Days\": 0.0, 'Along Came a Spider (Alex Cross Novels)': 0.0, 'Tick Tock': 8.0, \"Suddenly Gone : The Terrifying True Story of a Serial Killer's Grisly Kidnapping-Murders of Three Young Women (Suddenly Gone)\": 0.0, 'Outlander': 0.0, 'Womens Work': 0.0, 'LOVE AND DESIRE AND HATE : LOVE AND DESIRE AND HATE': 0.0, 'MOONLIGHT BECOMES YOU (LARGE PRINT EDITION)': 10.0, 'Mortal Grace': 7.0, 'The Graveyard Shift': 0.0, \"Magic's Price (The Last Herald-Mage Series, Book 3)\": 0.0, 'DAUGHTER OF TIME': 0.0, 'Bitter Almonds : The True Story of Mothers, Daughters, and the Seattle Cyanide Murders': 8.0, 'Venom in the Blood': 9.0, 'Anne Frank: The Diary of a Young Girl': 0.0, \"We'll Meet Again\": 10.0, \"White Oleander : A Novel (Oprah's Book Club)\": 0.0, \"In the Name of Love : Ann Rule's Crime Files Volume 4 (Ann Rule's Crime Files)\": 10.0, 'Deadly Medicine': 10.0, 'New Complete Do-It-Yourself Manual': 10.0, 'Tarot Decoder: Interpret the Symbols of the Tarot and Increase Your Uniderstanding of the Cards': 0.0, 'Stormbreaker (Alex Rider Adventure)': 0.0, \"The World's Worst Medical Mistakes\": 10.0, 'The Bad Place': 10.0, 'Precious Angels: A True Story of Two Slain Children and a Mother Convicted of Murder (Onyx True Crime, Je 853)': 10.0, 'Roses Are Red (Alex Cross Novels)': 0.0, 'J MAUSER MERCNARY': 0.0, 'Deadlier Than the Male: Stories of Female Serial Killers': 9.0, 'Granny Dan': 0.0, 'Cowboy': 8.0, 'Violets Are Blue': 0.0, 'Face the Fire (Three Sisters Island Trilogy)': 0.0, 'Rough Trade': 0.0, 'Upgrading Your PC Illustrated': 10.0, 'Missing Joseph': 0.0, 'Giant Graphics': 10.0, 'EVERYTHING SHE EVER WANTED': 10.0, 'Mortal Memory': 8.0, 'Body of Evidence (Kay Scarpetta Mysteries (Paperback))': 0.0, 'Parent Plan (Harlequin Superromance No, 70581)': 0.0, 'Heave Ho: My Little Green Book of Seasickness': 0.0, 'Wild Swan (Wild Swan)': 0.0, 'Deck the Halls (Holiday Classics)': 0.0, \"God's Fires\": 0.0, 'A Perfect Stranger': 10.0, \"Dawson's Creek: The Official Companion\": 10.0, 'The Dark Side of Genius: The Life of Alfred Hitchcock': 0.0, 'Angel At Risk (Silhouette Intimate Moments, No 7618)': 0.0, \"The World's Last Mysteries\": 10.0, 'The Sunbird': 0.0, 'Misconception (Scarlet)': 9.0, 'Irresistible Forces': 0.0, 'Forever in His Arms': 0.0, 'The Codicil': 8.0, \"The Deep End of the Ocean (Oprah's Book Club)\": 6.0, 'Who Killed My Daughter?': 0.0, 'Until Forever': 0.0, 'Before I Say Good-Bye : A Novel': 0.0, 'Remember Me': 0.0, 'Nightshade': 10.0, 'The Shoemaker :  The Anatomy of a Psychotic': 0.0, 'The Ghost': 0.0, 'Whispers': 9.0, 'The Best Laid Plans': 0.0, 'A Place of Execution': 0.0, \"Year's Best SF 3\": 0.0, 'Catching Larks': 0.0, 'DEAD BY SUNSET : DEAD BY SUNSET': 10.0, 'Secrets': 0.0, 'The Games Treasury: More Than 300 Indoor and Outdoor Favorites With Strategies, Rules and Traditions': 10.0, 'Lady Boss': 8.0, \"If I'd Killed Him When I Met Him (Elizabeth MacPherson Novels (Paperback))\": 0.0, 'It Was on Fire When I Lay Down on It': 0.0, 'Guinness Book of World Records, 1990': 0.0, 'Hot Shot': 0.0, \"Tooth and Claw (Frank Frazetta's Death Dealer, Bk 3)\": 0.0, 'Best School Year Ever': 0.0, 'The Blooding': 9.0, 'Walter Falls': 0.0, 'Passion of Molly T': 0.0, 'Almost Innocent': 0.0, 'Heart Of The Dragon  (March Madness) (Harlequin Historical)': 0.0, 'The Master Stroke': 0.0, 'The Second Time Around : A Novel': 0.0, 'Bitter Harvest': 10.0}\n"
       ]
      }
     ],
     "prompt_number": 8
    },
    {
     "cell_type": "heading",
     "level": 3,
     "metadata": {},
     "source": [
      "Using Haski's Pearson function"
     ]
    },
    {
     "cell_type": "code",
     "collapsed": false,
     "input": [
      "def pearson(X, Y):\n",
      "    n = len(X)\n",
      "    if n == 0: return 0\n",
      "    \n",
      "    sumX = 0.0\n",
      "    sumY = 0.0\n",
      "    sumX2 = 0.0\n",
      "    sumY2 = 0.0\n",
      "    sumXY = 0.0\n",
      "    \n",
      "    for i in range(n):\n",
      "        x = float(X[i])\n",
      "        y = float(Y[i])\n",
      "        sumX += x\n",
      "        sumY += y\n",
      "        sumXY += x * y\n",
      "        sumX2 += x * x\n",
      "        sumY2 += y * y\n",
      "    \n",
      "    numerator = sumXY - ( (sumX * sumY) / n )\n",
      "    denominatorTerm1 = sumX2 - ( (sumX * sumX) / n)\n",
      "    denominatorTerm2 = sumY2 - ( (sumY * sumY) / n)\n",
      "    denominator = (denominatorTerm1 * denominatorTerm2) ** 0.5\n",
      "    if (denominator == 0.0):\n",
      "        return 0.0\n",
      "    else:\n",
      "        return numerator / denominator"
     ],
     "language": "python",
     "metadata": {},
     "outputs": [],
     "prompt_number": 9
    },
    {
     "cell_type": "heading",
     "level": 3,
     "metadata": {},
     "source": [
      "Using Haski's Find Similar Users function"
     ]
    },
    {
     "cell_type": "code",
     "collapsed": false,
     "input": [
      "def findSimilarUsers(targetUserID, allRatings):\n",
      "    similarUsers = []\n",
      "    targetUserRatings = allRatings[targetUserID]\n",
      "    for user in allRatings:\n",
      "        # Exclude myself:\n",
      "        if (user != targetUserID):\n",
      "            userSimilarity = 0\n",
      "            # Find mutually rated movies (if any)\n",
      "            targetUserRatingsArray = []\n",
      "            otherUserRatingsArray = []\n",
      "            for movie in targetUserRatings:\n",
      "                if allRatings[user].has_key(movie):\n",
      "                    targetUserRatingsArray.append(\n",
      "                        float(targetUserRatings[movie]))\n",
      "                    otherUserRatingsArray.append(\n",
      "                        float(allRatings[user][movie]))\n",
      "        \n",
      "            # Compute the similarity between these users\n",
      "            userSimilarity = pearson(targetUserRatingsArray, \n",
      "                otherUserRatingsArray)\n",
      "            # If there is a positive correlation:\n",
      "            if userSimilarity > 0.0:\n",
      "                similarUsers.append((userSimilarity, user))\n",
      "    \n",
      "    # Sort the list by similarity\n",
      "    similarUsers.sort(reverse=True)\n",
      "    return similarUsers"
     ],
     "language": "python",
     "metadata": {},
     "outputs": [],
     "prompt_number": 10
    },
    {
     "cell_type": "code",
     "collapsed": false,
     "input": [
      "recommendation = []\n",
      "def getRecommendationCandidates(targetUser, similarUsers, allRatings, numRecommendations):\n",
      "    candidateTotals = {}\n",
      "    for user in similarUsers:\n",
      "        # Get this user's similarity (from -1 to 1)\n",
      "        userSimilarity = user[0]\n",
      "        # Go through this user's ratings\n",
      "        userID = user[1]\n",
      " \n",
      "        for movie in allRatings[userID]:\n",
      "            # Don't recommend stuff I already rated\n",
      "            if allRatings[targetUser].has_key(movie):\n",
      "                continue\n",
      "            # Score the movie based on the rating, penalizing bad ratings\n",
      "            rating = allRatings[userID][movie]\n",
      "            # Multiply by the Pearson correlation with this user\n",
      "            score = rating * userSimilarity\n",
      "            # Update this candidate's total score and total user similarity\n",
      "            if (not(candidateTotals.has_key(movie))):\n",
      "                sources = [(rating, userSimilarity, score)]\n",
      "                candidateTotals[movie] = (score, userSimilarity, \n",
      "                    sources)\n",
      "            else:\n",
      "                (prevScore, prevSim, sources) = candidateTotals[movie];\n",
      "                sources.append((rating, userSimilarity, score))\n",
      "                candidateTotals[movie] = (score + prevScore, \n",
      "                    userSimilarity + prevSim, sources)\n",
      "\n",
      "    \n",
      "    # Compute the averages\n",
      "    recommendationCandidates = []\n",
      "\n",
      "    for candidate in candidateTotals:\n",
      "        (totalScore, totalSim, sourceRatings) = candidateTotals[candidate]\n",
      "        recommendationCandidates.append((totalScore / totalSim, totalScore, \n",
      "            candidate, sourceRatings))\n",
      "        \n",
      "    recommendationCandidates.sort(reverse=True)\n",
      "    \n",
      "    #return recommendationCandidates[0 : numRecommendations]\n",
      "    return [(b[2]) for b in recommendationCandidates[0 : numRecommendations]]"
     ],
     "language": "python",
     "metadata": {},
     "outputs": [],
     "prompt_number": 21
    },
    {
     "cell_type": "code",
     "collapsed": false,
     "input": [
      "def recommend4me(newID):\n",
      "    #create new user profile\n",
      "    d = {}\n",
      "    for i, row in most_rated.iterrows():\n",
      "        d[row['title']] = int(raw_input(row['title'] + ': '))\n",
      "\n",
      "    bookRatings[newID] = d\n",
      "\n",
      "    #find similar users\n",
      "    similarUsers = findSimilarUsers(newID, bookRatings)\n",
      "\n",
      "    #get recommendation candidates\n",
      "    candidates = getRecommendationCandidates(newID, similarUsers, bookRatings, 10)\n",
      "    candidates_db = BX_books[BX_books.title.isin(candidates)].drop_duplicates('title')\n",
      "\n",
      "    #present candidates\n",
      "    df = candidates_db[['author', 'title', 'pub_year']]\n",
      "    df.columns = ['Author', 'Title', 'Year']\n",
      "    df['Image'] = candidates_db['imageM'].map(lambda x: '<img src=\"{}\" style=\"max-height: 200px; max-width: 200px;\" ></img>'.format(x) )\n",
      "    pd.set_option('max_colwidth', 300)\n",
      "    return HTML(df.to_html(escape=False))\n"
     ],
     "language": "python",
     "metadata": {},
     "outputs": [],
     "prompt_number": 11
    },
    {
     "cell_type": "code",
     "collapsed": false,
     "input": [
      "recommend4me(1)"
     ],
     "language": "python",
     "metadata": {},
     "outputs": [
      {
       "name": "stdout",
       "output_type": "stream",
       "stream": "stdout",
       "text": [
        "A Time to Kill: 2\n"
       ]
      },
      {
       "name": "stdout",
       "output_type": "stream",
       "stream": "stdout",
       "text": [
        "Angels &amp; Demons: 2\n"
       ]
      },
      {
       "name": "stdout",
       "output_type": "stream",
       "stream": "stdout",
       "text": [
        "Bridget Jones's Diary: 2\n"
       ]
      },
      {
       "name": "stdout",
       "output_type": "stream",
       "stream": "stdout",
       "text": [
        "Divine Secrets of the Ya-Ya Sisterhood: A Novel: 2\n"
       ]
      },
      {
       "name": "stdout",
       "output_type": "stream",
       "stream": "stdout",
       "text": [
        "Girl with a Pearl Earring: 2\n"
       ]
      },
      {
       "name": "stdout",
       "output_type": "stream",
       "stream": "stdout",
       "text": [
        "Harry Potter and the Chamber of Secrets (Book 2): 2\n"
       ]
      },
      {
       "name": "stdout",
       "output_type": "stream",
       "stream": "stdout",
       "text": [
        "Harry Potter and the Sorcerer's Stone (Harry Potter (Paperback)): 2\n"
       ]
      },
      {
       "name": "stdout",
       "output_type": "stream",
       "stream": "stdout",
       "text": [
        "Interview with the Vampire: 2\n"
       ]
      },
      {
       "name": "stdout",
       "output_type": "stream",
       "stream": "stdout",
       "text": [
        "Life of Pi: 2\n"
       ]
      },
      {
       "name": "stdout",
       "output_type": "stream",
       "stream": "stdout",
       "text": [
        "Snow Falling on Cedars: 2\n"
       ]
      },
      {
       "name": "stdout",
       "output_type": "stream",
       "stream": "stdout",
       "text": [
        "The Da Vinci Code: 2\n"
       ]
      },
      {
       "name": "stdout",
       "output_type": "stream",
       "stream": "stdout",
       "text": [
        "The Joy Luck Club: 2\n"
       ]
      },
      {
       "name": "stdout",
       "output_type": "stream",
       "stream": "stdout",
       "text": [
        "The Lovely Bones: A Novel: 2\n"
       ]
      },
      {
       "name": "stdout",
       "output_type": "stream",
       "stream": "stdout",
       "text": [
        "The Notebook: 2\n"
       ]
      },
      {
       "name": "stdout",
       "output_type": "stream",
       "stream": "stdout",
       "text": [
        "The Red Tent (Bestselling Backlist): 2\n"
       ]
      },
      {
       "name": "stdout",
       "output_type": "stream",
       "stream": "stdout",
       "text": [
        "The Secret Life of Bees: 2\n"
       ]
      },
      {
       "name": "stdout",
       "output_type": "stream",
       "stream": "stdout",
       "text": [
        "Timeline: 2\n"
       ]
      },
      {
       "name": "stdout",
       "output_type": "stream",
       "stream": "stdout",
       "text": [
        "To Kill a Mockingbird: 2\n"
       ]
      },
      {
       "name": "stdout",
       "output_type": "stream",
       "stream": "stdout",
       "text": [
        "Where the Heart Is (Oprah's Book Club (Paperback)): 2\n"
       ]
      },
      {
       "ename": "NameError",
       "evalue": "global name 'getRecommendationCandidates' is not defined",
       "output_type": "pyerr",
       "traceback": [
        "\u001b[0;31m---------------------------------------------------------------------------\u001b[0m\n\u001b[0;31mNameError\u001b[0m                                 Traceback (most recent call last)",
        "\u001b[0;32m<ipython-input-12-69b812a8bb66>\u001b[0m in \u001b[0;36m<module>\u001b[0;34m()\u001b[0m\n\u001b[0;32m----> 1\u001b[0;31m \u001b[0mrecommend4me\u001b[0m\u001b[0;34m(\u001b[0m\u001b[0;36m1\u001b[0m\u001b[0;34m)\u001b[0m\u001b[0;34m\u001b[0m\u001b[0m\n\u001b[0m",
        "\u001b[0;32m<ipython-input-11-b78e070ba9d7>\u001b[0m in \u001b[0;36mrecommend4me\u001b[0;34m(newID)\u001b[0m\n\u001b[1;32m     11\u001b[0m \u001b[0;34m\u001b[0m\u001b[0m\n\u001b[1;32m     12\u001b[0m     \u001b[0;31m#get recommendation candidates\u001b[0m\u001b[0;34m\u001b[0m\u001b[0;34m\u001b[0m\u001b[0m\n\u001b[0;32m---> 13\u001b[0;31m     \u001b[0mcandidates\u001b[0m \u001b[0;34m=\u001b[0m \u001b[0mgetRecommendationCandidates\u001b[0m\u001b[0;34m(\u001b[0m\u001b[0mnewID\u001b[0m\u001b[0;34m,\u001b[0m \u001b[0msimilarUsers\u001b[0m\u001b[0;34m,\u001b[0m \u001b[0mbookRatings\u001b[0m\u001b[0;34m,\u001b[0m \u001b[0;36m10\u001b[0m\u001b[0;34m)\u001b[0m\u001b[0;34m\u001b[0m\u001b[0m\n\u001b[0m\u001b[1;32m     14\u001b[0m     \u001b[0mcandidates_db\u001b[0m \u001b[0;34m=\u001b[0m \u001b[0mBX_books\u001b[0m\u001b[0;34m[\u001b[0m\u001b[0mBX_books\u001b[0m\u001b[0;34m.\u001b[0m\u001b[0mtitle\u001b[0m\u001b[0;34m.\u001b[0m\u001b[0misin\u001b[0m\u001b[0;34m(\u001b[0m\u001b[0mcandidates\u001b[0m\u001b[0;34m)\u001b[0m\u001b[0;34m]\u001b[0m\u001b[0;34m.\u001b[0m\u001b[0mdrop_duplicates\u001b[0m\u001b[0;34m(\u001b[0m\u001b[0;34m'title'\u001b[0m\u001b[0;34m)\u001b[0m\u001b[0;34m\u001b[0m\u001b[0m\n\u001b[1;32m     15\u001b[0m \u001b[0;34m\u001b[0m\u001b[0m\n",
        "\u001b[0;31mNameError\u001b[0m: global name 'getRecommendationCandidates' is not defined"
       ]
      }
     ],
     "prompt_number": 12
    },
    {
     "cell_type": "code",
     "collapsed": false,
     "input": [],
     "language": "python",
     "metadata": {},
     "outputs": []
    },
    {
     "cell_type": "code",
     "collapsed": false,
     "input": [],
     "language": "python",
     "metadata": {},
     "outputs": []
    },
    {
     "cell_type": "code",
     "collapsed": false,
     "input": [],
     "language": "python",
     "metadata": {},
     "outputs": []
    },
    {
     "cell_type": "code",
     "collapsed": false,
     "input": [],
     "language": "python",
     "metadata": {},
     "outputs": []
    },
    {
     "cell_type": "code",
     "collapsed": false,
     "input": [],
     "language": "python",
     "metadata": {},
     "outputs": []
    },
    {
     "cell_type": "code",
     "collapsed": false,
     "input": [],
     "language": "python",
     "metadata": {},
     "outputs": []
    }
   ],
   "metadata": {}
  }
 ]
}